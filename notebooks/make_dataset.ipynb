{
 "cells": [
  {
   "cell_type": "code",
   "execution_count": 1,
   "id": "ea00b3a3-e002-49a1-9bd5-732bec57d036",
   "metadata": {},
   "outputs": [],
   "source": [
    "import numpy as np\n",
    "import matplotlib.pyplot as plt\n",
    "import h5py\n",
    "import os\n"
   ]
  },
  {
   "cell_type": "markdown",
   "id": "e4a950ab-eb2f-4cd8-bc97-9effc87eed29",
   "metadata": {},
   "source": [
    "# compile arrays to h5py file"
   ]
  },
  {
   "cell_type": "code",
   "execution_count": 2,
   "id": "eb046bb8-d0df-4bd5-bb37-3d9d7365e7a3",
   "metadata": {},
   "outputs": [],
   "source": [
    "x = np.load(\"../data/theta_fit1.npy\")\n",
    "y = np.load(\"../data/logp_fit1.npy\")\n",
    "\n",
    "x_min, x_max, y_min, y_max = 0, 1, -300, 192.6\n",
    "with h5py.File(\"../data/dataset.h5\", \"w\") as hf:\n",
    "    hf.create_dataset('x', data=x.astype(np.float32))\n",
    "    hf.create_dataset('y', data=y.flatten().astype(np.float32))\n",
    "    hf.create_dataset('x_min', data=np.array([x_min], dtype=np.float32))\n",
    "    hf.create_dataset('x_max', data=np.array([x_max], dtype=np.float32))\n",
    "    hf.create_dataset('y_min', data=np.array([y_min], dtype=np.float32))    \n",
    "    hf.create_dataset('y_max', data=np.array([y_max], dtype=np.float32))"
   ]
  },
  {
   "cell_type": "code",
   "execution_count": 4,
   "id": "b06c9db0-b295-4680-b25f-a7c3d963a79d",
   "metadata": {},
   "outputs": [
    {
     "name": "stdout",
     "output_type": "stream",
     "text": [
      "(10000, 15)\n",
      "(10000,)\n",
      "(1,)\n"
     ]
    }
   ],
   "source": [
    "#test\n",
    "with h5py.File(\"../data/dataset.h5\", \"r\") as hf:\n",
    "    print(hf['x'].shape)\n",
    "    print(hf['y'].shape)\n",
    "    print(hf['y_min'].shape)\n"
   ]
  }
 ],
 "metadata": {
  "kernelspec": {
   "display_name": "pyRSD_Emulator",
   "language": "python",
   "name": "pyrsd_emu"
  },
  "language_info": {
   "codemirror_mode": {
    "name": "ipython",
    "version": 3
   },
   "file_extension": ".py",
   "mimetype": "text/x-python",
   "name": "python",
   "nbconvert_exporter": "python",
   "pygments_lexer": "ipython3",
   "version": "3.9.12"
  }
 },
 "nbformat": 4,
 "nbformat_minor": 5
}
